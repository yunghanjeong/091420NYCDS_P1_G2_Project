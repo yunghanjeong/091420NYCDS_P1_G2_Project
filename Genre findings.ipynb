{
 "cells": [
  {
   "cell_type": "code",
   "execution_count": 1,
   "metadata": {},
   "outputs": [],
   "source": [
    "import pandas as pd\n",
    "import numpy as np\n",
    "import matplotlib.pyplot as plt\n",
    "import os"
   ]
  },
  {
   "cell_type": "code",
   "execution_count": 2,
   "metadata": {},
   "outputs": [
    {
     "name": "stdout",
     "output_type": "stream",
     "text": [
      "bom.movie_gross.csv.gz        imdb.title.ratings.csv.gz\r\n",
      "imdb.name.basics.csv.gz       imdb.title_rating_summary.csv\r\n",
      "imdb.title.akas.csv.gz        rt.movie_info.tsv.gz\r\n",
      "imdb.title.basics.csv.gz      rt.reviews.tsv.gz\r\n",
      "imdb.title.crew.csv.gz        tmdb.movies.csv.gz\r\n",
      "imdb.title.principals.csv.gz  tn.movie_budgets.csv.gz\r\n"
     ]
    }
   ],
   "source": [
    "!ls data"
   ]
  },
  {
   "cell_type": "code",
   "execution_count": null,
   "metadata": {},
   "outputs": [],
   "source": [
    "df1 = pd.read_csv('data/bom.movie_gross.csv.gz')\n",
    "df1.head(2)"
   ]
  },
  {
   "cell_type": "code",
   "execution_count": null,
   "metadata": {},
   "outputs": [],
   "source": [
    "## genre, theater date, dvd date, box office $, run time\n",
    "df8 = pd.read_csv('data/rt.movie_info.tsv.gz', delimiter='\\t', encoding='windows-1254')\n",
    "df8.tail(20)"
   ]
  },
  {
   "cell_type": "code",
   "execution_count": null,
   "metadata": {},
   "outputs": [],
   "source": [
    "# tmdb genre ids, title name, release date\n",
    "df9 = pd.read_csv('data/tmdb.movies.csv.gz')\n",
    "df9.head(2)"
   ]
  },
  {
   "cell_type": "code",
   "execution_count": null,
   "metadata": {},
   "outputs": [],
   "source": [
    "#realease date, movie, budget, worldwide gross\n",
    "df10 = pd.read_csv('data/tn.movie_budgets.csv.gz')\n",
    "df10.head(2)"
   ]
  },
  {
   "cell_type": "code",
   "execution_count": null,
   "metadata": {},
   "outputs": [],
   "source": []
  },
  {
   "cell_type": "code",
   "execution_count": null,
   "metadata": {},
   "outputs": [],
   "source": []
  }
 ],
 "metadata": {
  "kernelspec": {
   "display_name": "Python 3",
   "language": "python",
   "name": "python3"
  },
  "language_info": {
   "codemirror_mode": {
    "name": "ipython",
    "version": 3
   },
   "file_extension": ".py",
   "mimetype": "text/x-python",
   "name": "python",
   "nbconvert_exporter": "python",
   "pygments_lexer": "ipython3",
   "version": "3.6.9"
  }
 },
 "nbformat": 4,
 "nbformat_minor": 4
}
