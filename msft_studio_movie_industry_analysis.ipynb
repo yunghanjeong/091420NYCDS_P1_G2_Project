{
 "cells": [
  {
   "cell_type": "markdown",
   "metadata": {},
   "source": [
    "# Movie Industry Analysis for Novel Title Direction for Microsoft Movie Studio\n",
    "\n",
    "## Overview\n",
    "This project seeks to identify the success parameters of the recently released movie titles for consulting and directing the creation of a novel title for the client: Microsoft Movie Studios.\n",
    "\n",
    "## Business Problem\n",
    "\n",
    "![img](https://img-prod-cms-rt-microsoft-com.akamaized.net/cms/api/am/imageFileData/RE2qVsJ?ver=3f74)\n",
    "\n",
    "<br>\n",
    "Microsoft sees all the big companies creating original video content, and they want to get in on the fun. They have decided to create a new movie studio, but the problem is they don’t know anything about creating movies. They have hired you to help them better understand the movie industry. Your team is charged with exploring what type of films are currently doing the best at the box office. You must then translate those findings into actionable insights that the head of Microsoft's new movie studio can use to help decide what type of films to create.\n",
    "\n",
    "\n",
    "## Structure\n",
    "\n",
    "The data set can be found in `/data` folder.\n",
    "<br>\n",
    "The intial data has been obtained from following sources. \n",
    "\n",
    "- Box Office Mojo (prefix: bom)\n",
    "- IMDB (prefix: imdb)\n",
    "- Rotten Tomatoes (prefix: rt)\n",
    "- TheMoiveDB.org (prefix: tmdb)\n",
    "- TheNumbers.com (prefix: tn)\n",
    "\n",
    "The data has been filtered and merged into few datasets.\n",
    "\n",
    "- i_tn_profit_clean.csv\n",
    "    - Merged IMDB and TheNumbers.com data with movies that only made profit in either domestic or worldwide market\n",
    "- imdb.title_rating_summary.csv\n",
    "    - Merged IMDB table of ratings and movie info summary\n",
    "    \n",
    "All plots and locally saved images can be found in `/images` folder.\n",
    "\n",
    "## Big Questions\n",
    "\n",
    "- How should the movie be budgeted?\n",
    "- What genres should the movie plot be centered around?\n",
    "- When should the movie be released?\n",
    "\n",
    "## Analysis Focus\n",
    "\n",
    "1. This analysis focuses on wholistic data available from past decade (2010 and beyond)\n",
    "2. This analysis focuses on movies that has made profit in either domestic or worldwide market\n",
    "\n",
    "## Contributors\n",
    "[Cierra Andaur](https://github.com/cierra4prez)\n",
    "<br>\n",
    "[Yung Han Jeong](https://github.com/yunghanjeong)"
   ]
  },
  {
   "cell_type": "markdown",
   "metadata": {},
   "source": [
    "***\n",
    "\n",
    "<h2 align=\"center\">Data Analysis</h2>\n",
    "\n",
    "***"
   ]
  },
  {
   "cell_type": "markdown",
   "metadata": {},
   "source": [
    "### Library Import"
   ]
  },
  {
   "cell_type": "code",
   "execution_count": 2,
   "metadata": {},
   "outputs": [],
   "source": [
    "import os\n",
    "import pandas as pd\n",
    "import numpy as np\n",
    "import src.tools as tl\n",
    "import matplotlib.pyplot as plt\n",
    "%matplotlib inline"
   ]
  },
  {
   "cell_type": "markdown",
   "metadata": {},
   "source": [
    "### ALL DATA IMPORT "
   ]
  },
  {
   "cell_type": "code",
   "execution_count": 3,
   "metadata": {
    "scrolled": true
   },
   "outputs": [
    {
     "name": "stdout",
     "output_type": "stream",
     "text": [
      "All DataFrame Loaded\n"
     ]
    }
   ],
   "source": [
    "#----------------Box Office Mojo------------------------------#\n",
    "bom_df = pd.read_csv(\"data/bom.movie_gross.csv.gz\") #title, studio, domestic gross(float), foreign_gross(object), year(int)\n",
    "\n",
    "#-----------------------IMDB----------------------------#\n",
    "i_basic_df = pd.read_csv(\"data/imdb.name.basics.csv.gz\") #people basic info\n",
    "i_aka_df = pd.read_csv(\"data/imdb.title.akas.csv.gz\") #movie title alternative/foreign name\n",
    "i_title_basic_df = pd.read_csv(\"data/imdb.title.basics.csv.gz\") #movie title basic info\n",
    "i_crew_df = pd.read_csv(\"data/imdb.title.crew.csv.gz\") #crew info by nconst\n",
    "i_principal_df = pd.read_csv(\"data/imdb.title.principals.csv.gz\") #principal people of the movie\n",
    "i_rating_df = pd.read_csv(\"data/imdb.title.ratings.csv.gz\") #rating and number of votes by tconst\n",
    "\n",
    "\n",
    "#-----------------------Rotten Tomato---------------------------#\n",
    "#Shoutout to Tim Hintz and Eric Roberts!\n",
    "rt_info_df = pd.read_csv(\"data/rt.movie_info.tsv.gz\", delimiter = \"\\t\", encoding='ISO-8859-1' ) #reviews and info\n",
    "rt_review_df = pd.read_csv(\"data/rt.reviews.tsv.gz\", delimiter = \"\\t\", encoding='ISO-8859-1' ) #reviews by critics\n",
    "\n",
    "#--------------------The Movie Database -------------------#\n",
    "tmdb_df = pd.read_csv(\"data/tmdb.movies.csv.gz\") #summary of movie info\n",
    "\n",
    "#-------------------The Numbers---------------------------------#\n",
    "tn_df = pd.read_csv(\"data/tn.movie_budgets.csv.gz\") #movie release date, title, budget, gross\n",
    "tn_profit_df = pd.read_csv(\"data/tn.profit_movie_budgets.csv\", index_col = 0) #filterd dataset of above with movies that only made profit\n",
    "\n",
    "#---------------------Merged Datasets---------------------------#\n",
    "i_sum_df = pd.read_csv(\"data/imdb.title_rating_summary.csv\", index_col = 0)\n",
    "i_tn_profit_df = pd.read_csv(\"data/i_tn_profit_clean.csv\", index_col = 0)\n",
    "\n",
    "\n",
    "print(\"All DataFrame Loaded\")"
   ]
  },
  {
   "cell_type": "markdown",
   "metadata": {},
   "source": [
    "***\n",
    "\n",
    "<h2 align=\"center\">Profitability and Trends of Genre From 2010-2018</h2>\n",
    "\n",
    "This analysis will utilize `i_tn_profit_clean.csv` which is a combined and cleaned dataset of IMDB and TheNumbers.com data. The genres column IMDB data contains the up to 3 genre tags per title. That column will be filtered through `unpack_genre` method from `src/tools.py` to obtain a dictionary which contains key:value pairs of genre:frequency. The genres columns will also be expanded to separate each tags as separate genre columns (genre1, genre2, genre3) for further grouped analysis. \n",
    "\n",
    "\n",
    "### Questions\n",
    "- Which genre performs overall the best?\n",
    "- Which genre performs best per title?\n",
    "- Are there a growing or diminishing trend in genres?\n",
    "\n"
   ]
  },
  {
   "cell_type": "markdown",
   "metadata": {},
   "source": [
    "#### Genre Performance \n",
    "Get each genres frequency in genres column separated into each tag and evaluate gross profit and normalized profit of each genre tags"
   ]
  },
  {
   "cell_type": "code",
   "execution_count": 4,
   "metadata": {},
   "outputs": [],
   "source": [
    "genre_i_tn = i_tn_profit_df.copy()"
   ]
  },
  {
   "cell_type": "code",
   "execution_count": 5,
   "metadata": {},
   "outputs": [
    {
     "data": {
      "text/plain": [
       "{'western': 4,\n",
       " 'musical': 5,\n",
       " 'war': 8,\n",
       " 'documentary': 21,\n",
       " 'sport': 22,\n",
       " 'history': 25,\n",
       " 'music': 36,\n",
       " 'family': 74,\n",
       " 'biography': 88,\n",
       " 'animation': 93,\n",
       " 'mystery': 93,\n",
       " 'fantasy': 96,\n",
       " 'sci-fi': 100,\n",
       " 'horror': 117,\n",
       " 'romance': 141,\n",
       " 'crime': 153,\n",
       " 'thriller': 180,\n",
       " 'adventure': 298,\n",
       " 'action': 325,\n",
       " 'comedy': 393,\n",
       " 'drama': 475}"
      ]
     },
     "execution_count": 5,
     "metadata": {},
     "output_type": "execute_result"
    }
   ],
   "source": [
    "#get unique genre tag set \n",
    "profit_group_genres = tl.unpack_genre(list(genre_i_tn.genres.dropna()))\n",
    "profit_group_genres"
   ]
  },
  {
   "cell_type": "markdown",
   "metadata": {},
   "source": [
    "As can be seen above western, musical, and war genres do not contain significant amounts of data for good comparison. These columsn will be dropped for further analysis in the future.\n",
    "<br>\n",
    "<br>\n",
    "#### Expanding Genres Columns"
   ]
  },
  {
   "cell_type": "code",
   "execution_count": 6,
   "metadata": {},
   "outputs": [],
   "source": [
    "genre_i_tn[[\"genre1\", \"genre2\", \"genre3\"]] = genre_i_tn.genres.str.split(\",\", expand = True)"
   ]
  },
  {
   "cell_type": "code",
   "execution_count": 7,
   "metadata": {
    "scrolled": false
   },
   "outputs": [],
   "source": [
    "#sanity check\n",
    "#genre_i_tn.head()"
   ]
  },
  {
   "cell_type": "code",
   "execution_count": 8,
   "metadata": {
    "scrolled": true
   },
   "outputs": [],
   "source": [
    "genre1_profit = genre_i_tn.groupby(\"genre1\").sum()[[\"domestic_profit\", \"worldwide_profit\"]]\n",
    "genre2_profit = genre_i_tn.groupby(\"genre2\").sum()[[\"domestic_profit\", \"worldwide_profit\"]]\n",
    "genre3_profit = genre_i_tn.groupby(\"genre3\").sum()[[\"domestic_profit\", \"worldwide_profit\"]]"
   ]
  },
  {
   "cell_type": "markdown",
   "metadata": {},
   "source": [
    "Obtain total profit per genre using calculation above"
   ]
  },
  {
   "cell_type": "code",
   "execution_count": 9,
   "metadata": {},
   "outputs": [],
   "source": [
    "genre_total = genre1_profit.add(genre2_profit, fill_value=0).add(genre3_profit, fill_value =0)"
   ]
  },
  {
   "cell_type": "code",
   "execution_count": 10,
   "metadata": {},
   "outputs": [],
   "source": [
    "#sanity check\n",
    "#genre_total.head()"
   ]
  },
  {
   "cell_type": "markdown",
   "metadata": {},
   "source": [
    "Drop low population data for more insightful analysis"
   ]
  },
  {
   "cell_type": "code",
   "execution_count": 11,
   "metadata": {},
   "outputs": [],
   "source": [
    "genre_total.drop([\"Musical\", \"Western\", \"War\"], inplace = True)"
   ]
  },
  {
   "cell_type": "markdown",
   "metadata": {},
   "source": [
    "genre_count dataframe can be created from the dictionary above for normalizing the total profit values"
   ]
  },
  {
   "cell_type": "code",
   "execution_count": 12,
   "metadata": {},
   "outputs": [],
   "source": [
    "#Create Genre Count from dictionary above and reformat index\n",
    "genre_count = pd.Series(profit_group_genres)\n",
    "genre_count = genre_count.reset_index()\n",
    "genre_count[\"index\"] = genre_count[\"index\"].apply(lambda txt: txt.title()) #titlize the output \n",
    "genre_count.set_index(\"index\", inplace = True)\n",
    "genre_count.sort_index(inplace = True)\n",
    "genre_count.drop([\"Musical\", \"Western\", \"War\"], inplace = True) #drop same columns as above"
   ]
  },
  {
   "cell_type": "code",
   "execution_count": 13,
   "metadata": {},
   "outputs": [],
   "source": [
    "#normalize data\n",
    "genre_total[\"norm_domestic\"] = genre_total[\"domestic_profit\"]/genre_count[0]\n",
    "genre_total[\"norm_worldwide\"] = genre_total[\"worldwide_profit\"]/genre_count[0]"
   ]
  },
  {
   "cell_type": "markdown",
   "metadata": {},
   "source": [
    "#### Plot Total Gross and Normalize Data"
   ]
  },
  {
   "cell_type": "code",
   "execution_count": 14,
   "metadata": {},
   "outputs": [
    {
     "data": {
      "image/png": "[encoded data removed]",
      "text/plain": [
       "<Figure size 1728x576 with 4 Axes>"
      ]
     },
     "metadata": {
      "needs_background": "light"
     },
     "output_type": "display_data"
    }
   ],
   "source": [
    "#Set Figure Size\n",
    "plt.figure(figsize=(24,8))\n",
    "\n",
    "#Set top data slicing value total number of top ranks to plot\n",
    "graphrank = 7 #must be less than or equal to the length of the genre_total\n",
    "\n",
    "\n",
    "#------------------------GENRE TOTAL PLOT------------------------#\n",
    "#sort and slice before plotting\n",
    "plot_total = genre_total.sort_values(\"worldwide_profit\", ascending = False)\n",
    "plot_total = plot_total[:graphrank]\n",
    "\n",
    "#set first bar graph x positions and width\n",
    "ax = plt.subplot(1,2,1) #set figure position\n",
    "ax2 = ax.twinx() #set twin x axis\n",
    "xpos = np.array(range(0,len(plot_total))) #xpos for barset\n",
    "width = 0.4 #set bar width for offset\n",
    "\n",
    "#bar plot both domestic and worldwide gross based on genre\n",
    "domestic = ax2.bar(xpos+width/2, plot_total[\"domestic_profit\"].values, \n",
    "                   width, label = \"Domestic Profit\", color = \"grey\")\n",
    "worldwide = ax.bar(xpos-width/2, plot_total[\"worldwide_profit\"].values, \n",
    "                   width, label = \"Worldwide Profit\", color = \"tomato\")\n",
    "\n",
    "#set x axis markers\n",
    "ax.set_xticks(xpos);\n",
    "ax.set_xticklabels(plot_total.index, rotation = 45, size=14);\n",
    "\n",
    "#set labels\n",
    "ax.set_ylabel(\"Worldwide Gross ($10 billion)\", size=16);\n",
    "ax2.set_ylabel(\"Domestic Gross ($10 billion)\", size=16);\n",
    "ax.set_title(\"Gross Profit\", size=20)\n",
    "\n",
    "#set legend\n",
    "ax.legend(bbox_to_anchor=(0,0,1,1), loc=\"upper right\")\n",
    "ax2.legend(bbox_to_anchor=(0,-.05,1,1), loc=\"upper right\")\n",
    "\n",
    "#-----------------NORMALIZED GENRE PROFIT PLOT----------------------------#\n",
    "#sort and slice before plotting\n",
    "plot_norm = genre_total.sort_values(\"norm_worldwide\", ascending = False)\n",
    "plot_norm = plot_norm[:graphrank]\n",
    "\n",
    "#set second plot x positions\n",
    "ax3 = plt.subplot(1,2,2) #set figure position\n",
    "ax4 = ax3.twinx() #set twin x axis\n",
    "xpos = np.array(range(0,len(plot_norm))) #xpos for barset\n",
    "width = 0.4 #set bar width for offset\n",
    "\n",
    "\n",
    "\n",
    "#bar plot both domestic and worldwide gross based on genre\n",
    "domestic = ax4.bar(xpos+width/2, plot_norm[\"norm_domestic\"].values, \n",
    "                   width, label = \"Domestic Profit\", color = \"silver\")\n",
    "worldwide = ax3.bar(xpos-width/2, plot_norm[\"norm_worldwide\"].values, \n",
    "                    width, label = \"Worldwide Profit\", color = \"coral\")\n",
    "\n",
    "#set x axis markers\n",
    "ax3.set_xticks(xpos);\n",
    "ax3.set_xticklabels(plot_norm.index, rotation = 45, size=14);\n",
    "\n",
    "#set labels\n",
    "ax3.set_ylabel(\"Worldwide Gross ($ 100 million)\", size=16);\n",
    "ax4.set_ylabel(\"Domestic Gross ($ 10 million)\", size=16);\n",
    "ax3.set_title(\"Average Gross Profit\", size=20)\n",
    "\n",
    "#set legend\n",
    "ax3.legend(bbox_to_anchor=(0,0,1,1), loc=\"upper right\")\n",
    "ax4.legend(bbox_to_anchor=(0,-.05,1,1), loc=\"upper right\")\n",
    "plt.suptitle(\"Box Office Profit Per Genre 2010-2019\", size = 24)\n",
    "\n",
    "#--------------------------SAVE IMAGE--------------------------#\n",
    "#Please only uncomment if you wish to save the image\n",
    "#plt.savefig(\"images/norm_gross_sbs_profit_genre.png\")\n",
    "\n",
    "plt.show()"
   ]
  },
  {
   "cell_type": "markdown",
   "metadata": {},
   "source": [
    "As can be seen above, Sci-Fi and Animation takes the top place in normalized profit per genre with Adventure and Action following behind. Comey and Drama falls quickly behind in Worldwide market, but still maintains strong domestic presence as expected form earlier analysis. Fantasy genre gained considerable ranking, but this is most likely due to recent huge success in fantasy films such as Harry Potter. "
   ]
  },
  {
   "cell_type": "markdown",
   "metadata": {},
   "source": [
    "#### Genre trend from 2010-2018\n",
    "Genre Trend will be analyzed only between 2010-2018, since 2019 has far less population than rest of the group"
   ]
  },
  {
   "cell_type": "code",
   "execution_count": 27,
   "metadata": {},
   "outputs": [],
   "source": [
    "#Initialize empty dataframe to store results\n",
    "genre_yearly_count = pd.DataFrame()\n",
    "#get range of years from the dataset to analyze\n",
    "year_range = sorted(list(i_tn_profit_df.release_year.unique()))\n",
    "\n",
    "#for every year in the year range\n",
    "for year in year_range:\n",
    "    #get each genre tag's appearance per genre columns\n",
    "    yearly_count1 = genre_i_tn[genre_i_tn[\"release_year\"] == year].groupby(\"genre1\")[\"primary_title\"].nunique()\n",
    "    yearly_count2 = genre_i_tn[genre_i_tn[\"release_year\"] == year].groupby(\"genre2\")[\"primary_title\"].nunique()\n",
    "    yearly_count3 = genre_i_tn[genre_i_tn[\"release_year\"] == year].groupby(\"genre3\")[\"primary_title\"].nunique()\n",
    "    \n",
    "    #add up the results for total genre appearance of that year. Use 0 for unavailable data\n",
    "    yearly_count = yearly_count1.add(yearly_count2, fill_value = 0).add(yearly_count3, fill_value = 0)\n",
    "    \n",
    "    #concatenate the results before looping again\n",
    "    genre_yearly_count = pd.concat([genre_yearly_count, yearly_count], axis=1, sort=True)\n",
    "\n",
    "#set column names to the year range\n",
    "genre_yearly_count.columns = year_range\n",
    "#drop 2019 due to incomplete/low data\n",
    "genre_yearly_count.drop(columns=2019, inplace = True)\n",
    "#fill NaN values with 0 for plotting\n",
    "genre_yearly_count.fillna(0, inplace = True)"
   ]
  },
  {
   "cell_type": "markdown",
   "metadata": {},
   "source": [
    "Transposing the data to flip the index and columns, which will make more sense for visualization. Also dropping the 3 outlier genres: Musical, War, and Western. This results in 18 total genres to analyze. "
   ]
  },
  {
   "cell_type": "code",
   "execution_count": 28,
   "metadata": {},
   "outputs": [],
   "source": [
    "genre_yearly_count = genre_yearly_count.transpose().drop(columns = [\"Musical\", \"War\",\"Western\"])"
   ]
  },
  {
   "cell_type": "code",
   "execution_count": 29,
   "metadata": {},
   "outputs": [
    {
     "data": {
      "image/png": "[encoded data removed]",
      "text/plain": [
       "<Figure size 1440x720 with 3 Axes>"
      ]
     },
     "metadata": {
      "needs_background": "light"
     },
     "output_type": "display_data"
    }
   ],
   "source": [
    "#set figure size\n",
    "plt.figure(figsize=(20,10))\n",
    "\n",
    "#rank each genre to plot, defined number of subplots and get division count\n",
    "ranked_genre = genre_yearly_count.mean().sort_values(ascending = False).index\n",
    "\n",
    "\n",
    "#------------------------------first subplot----------------------------------------#\n",
    "ax = plt.subplot(1,3,1)\n",
    "axdata = genre_yearly_count[ranked_genre[:6]]\n",
    "axlabel = list(axdata.columns)\n",
    "\n",
    "#prettifying\n",
    "axcolor = [\"lightsalmon\",\"red\",\"lightcoral\",\"firebrick\",\"lightsalmon\",\"maroon\"]\n",
    "\n",
    "#this list is used for indexing the data total backwards to draw stacked bar-graph\n",
    "barrange1 = list(range(0,len(axdata.columns)))[::-1]\n",
    "\n",
    "#use for loop to label each line\n",
    "for idx, data in zip(barrange1,axdata):\n",
    "    plotheight = axdata.iloc[:,:idx+1].sum(axis=1)\n",
    "    ax.bar(axdata.index, plotheight, label=data, color=axcolor[idx])\n",
    "ax.legend(bbox_to_anchor=(0,-0.11,1,1), loc=\"lower left\",ncol=3)\n",
    "\n",
    "#axis label\n",
    "ax.set_ylabel(\"Frequency, stacked\", size=16)\n",
    "ax.set_xlabel(\"Year\", size=16)\n",
    "\n",
    "#------------------------------second subplot--------------------------------------#\n",
    "ax2 = plt.subplot(1,3,2)\n",
    "ax2data = genre_yearly_count[ranked_genre[6:12]]\n",
    "ax2label = list(ax2data.columns)\n",
    "\n",
    "#prettifying\n",
    "ax2color = [\"palegreen\",\"olivedrab\",\"lime\",\"forestgreen\",\"yellowgreen\",\"darkgreen\"]\n",
    "\n",
    "#this list is used for indexing the data total backwards to draw stacked bar-graph\n",
    "barrange2 = list(range(0,len(ax2data.columns)))[::-1]\n",
    "\n",
    "#use for loop to label each line\n",
    "for idx, data in zip(barrange2,ax2data):\n",
    "    plotheight = ax2data.iloc[:,:idx+1].sum(axis=1)\n",
    "    ax2.bar(ax2data.index, plotheight, label=data,color=ax2color[idx])\n",
    "ax2.legend(bbox_to_anchor=(0,-0.11,1,1), loc=\"lower left\",ncol=3)\n",
    "\n",
    "#axis label\n",
    "ax2.set_ylabel(\"Frequency, stacked\", size=16)\n",
    "ax2.set_xlabel(\"Year\", size=16)\n",
    "    \n",
    "#-------------------------------third subplot--------------------------------------#\n",
    "ax3 = plt.subplot(1,3,3)\n",
    "ax3data = genre_yearly_count[ranked_genre[12:]]\n",
    "ax3label = list(ax3data.columns)\n",
    "\n",
    "#prettifying\n",
    "ax3color = [\"lightsteelblue\",\"dodgerblue\",\"slategrey\",\"mediumblue\",\"skyblue\",\"navy\"]\n",
    "\n",
    "\n",
    "#this list is used for indexing the data total backwards to draw stacked bar-graph\n",
    "barrange3 = list(range(0,len(ax3data.columns)))[::-1]\n",
    "#use for loop to label each line\n",
    "for idx, data in zip(barrange3, ax3data):\n",
    "    plotheight = ax3data.iloc[:,:idx+1].sum(axis=1)\n",
    "    ax3.bar(ax3data.index, plotheight, label=data, color=ax3color[idx])\n",
    "ax3.legend(bbox_to_anchor=(0,-0.11,1,1), loc=\"lower left\",ncol=3)\n",
    "\n",
    "#axis label\n",
    "ax3.set_ylabel(\"Frequency, stacked\", size=16)\n",
    "ax3.set_xlabel(\"Year\", size=16)\n",
    "\n",
    "#Plot Super title\n",
    "plt.suptitle(\"Genre Frequency Per Year, Stacked\", size = 24)\n",
    "\n",
    "#Only run the bottom code to save the plot!\n",
    "#plt.savefig(\"images/genre_peryear_stacked.png\")\n",
    "\n",
    "plt.show()"
   ]
  },
  {
   "cell_type": "markdown",
   "metadata": {},
   "source": [
    "From stacked bar chart above there are few trends that are readily visible (change in color)\n",
    "\n",
    "- Documentary is in upward trend\n",
    "- Action, Adventure, Animation, and Sci-fi did not change much in recent releases\n",
    "- Crime, Thriller, and Romance are on a slight downward trend \n",
    "- Mystery and Sports are on sharper downward trend\n",
    "\n",
    "***"
   ]
  },
  {
   "cell_type": "markdown",
   "metadata": {},
   "source": [
    "<h2 align=\"center\">Release Date Analysis</h2>\n",
    "\n",
    "This analysis will utilize `i_tn_profit_clean.csv` again in order to compare the runtime of the movie to the profit of the movie. For the release date comparison 2 genres that performed well from previous analysis will be selected. For final presentation `Animation` and `Sci-Fi` genres were selected.\n",
    "\n",
    "\n",
    "### Questions\n",
    "- What is the best month to release a movie\n"
   ]
  },
  {
   "cell_type": "markdown",
   "metadata": {},
   "source": [
    "#### Data import and parsing"
   ]
  },
  {
   "cell_type": "code",
   "execution_count": 30,
   "metadata": {
    "scrolled": true
   },
   "outputs": [],
   "source": [
    "#create dataframe copy\n",
    "season_profit = i_tn_profit_df.copy()"
   ]
  },
  {
   "cell_type": "code",
   "execution_count": 31,
   "metadata": {},
   "outputs": [],
   "source": [
    "#get numeric value of the each month\n",
    "season_profit[\"release_month\"] = season_profit[\"release_date\"].apply(tl.get_month)"
   ]
  },
  {
   "cell_type": "code",
   "execution_count": 32,
   "metadata": {
    "scrolled": true
   },
   "outputs": [],
   "source": [
    "#sanity check\n",
    "#season_profit.head()"
   ]
  },
  {
   "cell_type": "code",
   "execution_count": 33,
   "metadata": {},
   "outputs": [],
   "source": [
    "#expand genres for further analysis\n",
    "season_profit[[\"genre1\", \"genre2\", \"genre3\"]] = season_profit.genres.str.split(\",\", expand = True)"
   ]
  },
  {
   "cell_type": "markdown",
   "metadata": {},
   "source": [
    "#### Data plotting"
   ]
  },
  {
   "cell_type": "code",
   "execution_count": 34,
   "metadata": {},
   "outputs": [
    {
     "data": {
      "image/png": "[encoded data removed]",
      "text/plain": [
       "<Figure size 1296x432 with 2 Axes>"
      ]
     },
     "metadata": {
      "needs_background": "light"
     },
     "output_type": "display_data"
    }
   ],
   "source": [
    "#plot the data\n",
    "\n",
    "fig, ax = plt.subplots(figsize = (18,6))\n",
    "\n",
    "#set twin x axis for double bar graph\n",
    "ax2 = ax.twinx()\n",
    "#set bar width\n",
    "width = 0.4\n",
    "\n",
    "#set genres to get data, this can be any 2 genres in the dataset\n",
    "genres = [\"Sci-Fi\", \"Animation\"]\n",
    "\n",
    "#-----------------------------------First Subplot---------------------------------------#\n",
    "#first bar data\n",
    "axdata = season_profit[(season_profit[\"genre1\"].isin([genres[0]])) | \n",
    "              (season_profit[\"genre2\"].isin([genres[0]])) | \n",
    "              (season_profit[\"genre3\"].isin([genres[0]])) ].groupby(\"release_month\"\n",
    "                                                                  ).mean()[\"worldwide_gross\"]\n",
    "\n",
    "#set first bar data and xposition\n",
    "ax_xtick = axdata.index\n",
    "ax_yheight = axdata.values\n",
    "xpos = np.array(range(0,len(ax_xtick)))\n",
    "\n",
    "#plot first bar\n",
    "ax.bar(xpos-width/2,ax_yheight,width=width, label=genres[0], color = \"olivedrab\", alpha = 0.7)\n",
    "\n",
    "#set first bar x tick marks and its position\n",
    "ax.set_xticks(xpos)\n",
    "ax.set_xticklabels(ax_xtick, size=14)\n",
    "\n",
    "#prettify first bar\n",
    "ax.legend(loc=\"upper left\")\n",
    "ax.set_ylabel(\"Profit ($100 million)\", size=16)\n",
    "ax.set_xlabel(\"Months\", size=16)\n",
    "\n",
    "#-----------------------------------Second Subplot---------------------------------------#\n",
    "#second bar data\n",
    "ax2data = season_profit[(season_profit[\"genre1\"].isin([genres[1]])) | \n",
    "              (season_profit[\"genre2\"].isin([genres[1]])) | \n",
    "              (season_profit[\"genre3\"].isin([genres[1]])) ].groupby(\"release_month\"\n",
    "                                                                  ).mean()[\"worldwide_gross\"]\n",
    "\n",
    "#set second bar data and xposition\n",
    "ax2_xtick = ax2data.index\n",
    "ax2_yheight = ax2data.values\n",
    "xpos = np.array(range(0,len(ax2_xtick)))\n",
    "\n",
    "#plot second bar\n",
    "ax2.bar(xpos+width/2,ax2_yheight, width=width, label=genres[1], color=\"forestgreen\", alpha = 0.7)\n",
    "\n",
    "#set second bar x tick marks and its position\n",
    "ax2.set_xticks(xpos)\n",
    "ax2.set_xticklabels(ax2_xtick, size=14)\n",
    "\n",
    "\n",
    "\n",
    "#set second legend\n",
    "ax2.legend(bbox_to_anchor=(0,-0.05,1,1),loc=\"upper left\")\n",
    "ax2.set_yticks([])\n",
    "\n",
    "plt.title(\"Average Movie Profit by Month\", size = 24)\n",
    "\n",
    "#uncomment to save\n",
    "#plt.savefig(\"images/avg_month_profit.png\")\n",
    "\n",
    "plt.show()"
   ]
  },
  {
   "cell_type": "markdown",
   "metadata": {},
   "source": [
    "For `Sci-Fi` and `Animation` May-July seems to be the best moneth to release the title. `Sci-Fi` tends to trail-off quickly during this period, but `Animation` stays strong throught the season. The title should not be targetted for release in the beginning of the year or in august due to it's proven poor record. "
   ]
  },
  {
   "cell_type": "markdown",
   "metadata": {},
   "source": [
    "<h2 align=\"center\">Budget Analysis</h2>\n",
    "\n",
    "This analysis will utilize `tn.profit_movie_budgets.csv`, \n",
    "\n",
    "`i_tn_profit_clean.csv` and `tn.movie_budgets.csv.gz` in order to compare budget range with the profit of a movie. For this comparison, we will continue to examine movies released since 2010 and again look into `Animation` and `Sci-Fi` genres.\n",
    "\n",
    "\n",
    "### Questions\n",
    "- How does budget effect profitability?\n"
   ]
  },
  {
   "cell_type": "code",
   "execution_count": 4,
   "metadata": {},
   "outputs": [],
   "source": [
    "tn_profit_df = pd.read_csv('data/tn.profit_movie_budgets.csv')"
   ]
  },
  {
   "cell_type": "code",
   "execution_count": 5,
   "metadata": {},
   "outputs": [],
   "source": [
    "# Convert integers in millions to be more readable\n",
    "tn_profit_df.production_budget = tn_profit_df.production_budget*.000001\n",
    "tn_profit_df.domestic_gross = tn_profit_df.domestic_gross*.000001\n",
    "tn_profit_df.worldwide_gross = tn_profit_df.worldwide_gross*.000001\n",
    "tn_profit_df.domestic_profit = tn_profit_df.domestic_profit*.000001\n",
    "tn_profit_df.worldwide_profit = tn_profit_df.worldwide_profit*.000001\n",
    "\n",
    "# Round off decimals for readability\n",
    "decimals = pd.Series([2, 2, 2, 2, 2], index=['production_budget', 'domestic_gross', 'worldwide_gross', 'domestic_profit', 'worldwide_profit'])\n",
    "df12_clean = tn_profit_df.round(decimals)"
   ]
  },
  {
   "cell_type": "code",
   "execution_count": null,
   "metadata": {},
   "outputs": [],
   "source": []
  },
  {
   "cell_type": "code",
   "execution_count": 6,
   "metadata": {},
   "outputs": [
    {
     "data": {
      "text/html": [
       "<div>\n",
       "<style scoped>\n",
       "    .dataframe tbody tr th:only-of-type {\n",
       "        vertical-align: middle;\n",
       "    }\n",
       "\n",
       "    .dataframe tbody tr th {\n",
       "        vertical-align: top;\n",
       "    }\n",
       "\n",
       "    .dataframe thead th {\n",
       "        text-align: right;\n",
       "    }\n",
       "</style>\n",
       "<table border=\"1\" class=\"dataframe\">\n",
       "  <thead>\n",
       "    <tr style=\"text-align: right;\">\n",
       "      <th></th>\n",
       "      <th>Unnamed: 0</th>\n",
       "      <th>id</th>\n",
       "      <th>release_date</th>\n",
       "      <th>release_year</th>\n",
       "      <th>movie</th>\n",
       "      <th>production_budget</th>\n",
       "      <th>domestic_gross</th>\n",
       "      <th>worldwide_gross</th>\n",
       "      <th>domestic_profit</th>\n",
       "      <th>worldwide_profit</th>\n",
       "    </tr>\n",
       "  </thead>\n",
       "  <tbody>\n",
       "    <tr>\n",
       "      <th>1</th>\n",
       "      <td>1</td>\n",
       "      <td>2</td>\n",
       "      <td>May 20, 2011</td>\n",
       "      <td>2011</td>\n",
       "      <td>Pirates of the Caribbean: On Stranger Tides</td>\n",
       "      <td>410.6</td>\n",
       "      <td>241.06</td>\n",
       "      <td>1045.66</td>\n",
       "      <td>-169.54</td>\n",
       "      <td>635.06</td>\n",
       "    </tr>\n",
       "    <tr>\n",
       "      <th>2</th>\n",
       "      <td>3</td>\n",
       "      <td>4</td>\n",
       "      <td>May 1, 2015</td>\n",
       "      <td>2015</td>\n",
       "      <td>Avengers: Age of Ultron</td>\n",
       "      <td>330.6</td>\n",
       "      <td>459.01</td>\n",
       "      <td>1403.01</td>\n",
       "      <td>128.41</td>\n",
       "      <td>1072.41</td>\n",
       "    </tr>\n",
       "    <tr>\n",
       "      <th>3</th>\n",
       "      <td>4</td>\n",
       "      <td>5</td>\n",
       "      <td>Dec 15, 2017</td>\n",
       "      <td>2017</td>\n",
       "      <td>Star Wars Ep. VIII: The Last Jedi</td>\n",
       "      <td>317.0</td>\n",
       "      <td>620.18</td>\n",
       "      <td>1316.72</td>\n",
       "      <td>303.18</td>\n",
       "      <td>999.72</td>\n",
       "    </tr>\n",
       "    <tr>\n",
       "      <th>4</th>\n",
       "      <td>5</td>\n",
       "      <td>6</td>\n",
       "      <td>Dec 18, 2015</td>\n",
       "      <td>2015</td>\n",
       "      <td>Star Wars Ep. VII: The Force Awakens</td>\n",
       "      <td>306.0</td>\n",
       "      <td>936.66</td>\n",
       "      <td>2053.31</td>\n",
       "      <td>630.66</td>\n",
       "      <td>1747.31</td>\n",
       "    </tr>\n",
       "    <tr>\n",
       "      <th>5</th>\n",
       "      <td>6</td>\n",
       "      <td>7</td>\n",
       "      <td>Apr 27, 2018</td>\n",
       "      <td>2018</td>\n",
       "      <td>Avengers: Infinity War</td>\n",
       "      <td>300.0</td>\n",
       "      <td>678.82</td>\n",
       "      <td>2048.13</td>\n",
       "      <td>378.82</td>\n",
       "      <td>1748.13</td>\n",
       "    </tr>\n",
       "  </tbody>\n",
       "</table>\n",
       "</div>"
      ],
      "text/plain": [
       "   Unnamed: 0  id  release_date  release_year  \\\n",
       "1           1   2  May 20, 2011          2011   \n",
       "2           3   4   May 1, 2015          2015   \n",
       "3           4   5  Dec 15, 2017          2017   \n",
       "4           5   6  Dec 18, 2015          2015   \n",
       "5           6   7  Apr 27, 2018          2018   \n",
       "\n",
       "                                         movie  production_budget  \\\n",
       "1  Pirates of the Caribbean: On Stranger Tides              410.6   \n",
       "2                      Avengers: Age of Ultron              330.6   \n",
       "3            Star Wars Ep. VIII: The Last Jedi              317.0   \n",
       "4         Star Wars Ep. VII: The Force Awakens              306.0   \n",
       "5                       Avengers: Infinity War              300.0   \n",
       "\n",
       "   domestic_gross  worldwide_gross  domestic_profit  worldwide_profit  \n",
       "1          241.06          1045.66          -169.54            635.06  \n",
       "2          459.01          1403.01           128.41           1072.41  \n",
       "3          620.18          1316.72           303.18            999.72  \n",
       "4          936.66          2053.31           630.66           1747.31  \n",
       "5          678.82          2048.13           378.82           1748.13  "
      ]
     },
     "execution_count": 6,
     "metadata": {},
     "output_type": "execute_result"
    }
   ],
   "source": [
    "# subset of movies made within the last 10 years with under $1,250,000,000 ww_profit\n",
    "df12_10yrs = df12_clean[df12_clean['release_year'] > 2010]\n",
    "df12_10yrs.head()"
   ]
  },
  {
   "cell_type": "code",
   "execution_count": 7,
   "metadata": {},
   "outputs": [
    {
     "data": {
      "text/html": [
       "<div>\n",
       "<style scoped>\n",
       "    .dataframe tbody tr th:only-of-type {\n",
       "        vertical-align: middle;\n",
       "    }\n",
       "\n",
       "    .dataframe tbody tr th {\n",
       "        vertical-align: top;\n",
       "    }\n",
       "\n",
       "    .dataframe thead th {\n",
       "        text-align: right;\n",
       "    }\n",
       "</style>\n",
       "<table border=\"1\" class=\"dataframe\">\n",
       "  <thead>\n",
       "    <tr style=\"text-align: right;\">\n",
       "      <th></th>\n",
       "      <th>Unnamed: 0</th>\n",
       "      <th>id</th>\n",
       "      <th>release_date</th>\n",
       "      <th>release_year</th>\n",
       "      <th>movie</th>\n",
       "      <th>production_budget</th>\n",
       "      <th>domestic_gross</th>\n",
       "      <th>worldwide_gross</th>\n",
       "      <th>domestic_profit</th>\n",
       "      <th>worldwide_profit</th>\n",
       "    </tr>\n",
       "  </thead>\n",
       "  <tbody>\n",
       "    <tr>\n",
       "      <th>1</th>\n",
       "      <td>1</td>\n",
       "      <td>2</td>\n",
       "      <td>May 20, 2011</td>\n",
       "      <td>2011</td>\n",
       "      <td>Pirates of the Caribbean: On Stranger Tides</td>\n",
       "      <td>410.6</td>\n",
       "      <td>241.06</td>\n",
       "      <td>1045.66</td>\n",
       "      <td>-169.54</td>\n",
       "      <td>635.06</td>\n",
       "    </tr>\n",
       "    <tr>\n",
       "      <th>2</th>\n",
       "      <td>3</td>\n",
       "      <td>4</td>\n",
       "      <td>May 1, 2015</td>\n",
       "      <td>2015</td>\n",
       "      <td>Avengers: Age of Ultron</td>\n",
       "      <td>330.6</td>\n",
       "      <td>459.01</td>\n",
       "      <td>1403.01</td>\n",
       "      <td>128.41</td>\n",
       "      <td>1072.41</td>\n",
       "    </tr>\n",
       "    <tr>\n",
       "      <th>3</th>\n",
       "      <td>4</td>\n",
       "      <td>5</td>\n",
       "      <td>Dec 15, 2017</td>\n",
       "      <td>2017</td>\n",
       "      <td>Star Wars Ep. VIII: The Last Jedi</td>\n",
       "      <td>317.0</td>\n",
       "      <td>620.18</td>\n",
       "      <td>1316.72</td>\n",
       "      <td>303.18</td>\n",
       "      <td>999.72</td>\n",
       "    </tr>\n",
       "    <tr>\n",
       "      <th>4</th>\n",
       "      <td>5</td>\n",
       "      <td>6</td>\n",
       "      <td>Dec 18, 2015</td>\n",
       "      <td>2015</td>\n",
       "      <td>Star Wars Ep. VII: The Force Awakens</td>\n",
       "      <td>306.0</td>\n",
       "      <td>936.66</td>\n",
       "      <td>2053.31</td>\n",
       "      <td>630.66</td>\n",
       "      <td>1747.31</td>\n",
       "    </tr>\n",
       "    <tr>\n",
       "      <th>5</th>\n",
       "      <td>6</td>\n",
       "      <td>7</td>\n",
       "      <td>Apr 27, 2018</td>\n",
       "      <td>2018</td>\n",
       "      <td>Avengers: Infinity War</td>\n",
       "      <td>300.0</td>\n",
       "      <td>678.82</td>\n",
       "      <td>2048.13</td>\n",
       "      <td>378.82</td>\n",
       "      <td>1748.13</td>\n",
       "    </tr>\n",
       "  </tbody>\n",
       "</table>\n",
       "</div>"
      ],
      "text/plain": [
       "   Unnamed: 0  id  release_date  release_year  \\\n",
       "1           1   2  May 20, 2011          2011   \n",
       "2           3   4   May 1, 2015          2015   \n",
       "3           4   5  Dec 15, 2017          2017   \n",
       "4           5   6  Dec 18, 2015          2015   \n",
       "5           6   7  Apr 27, 2018          2018   \n",
       "\n",
       "                                         movie  production_budget  \\\n",
       "1  Pirates of the Caribbean: On Stranger Tides              410.6   \n",
       "2                      Avengers: Age of Ultron              330.6   \n",
       "3            Star Wars Ep. VIII: The Last Jedi              317.0   \n",
       "4         Star Wars Ep. VII: The Force Awakens              306.0   \n",
       "5                       Avengers: Infinity War              300.0   \n",
       "\n",
       "   domestic_gross  worldwide_gross  domestic_profit  worldwide_profit  \n",
       "1          241.06          1045.66          -169.54            635.06  \n",
       "2          459.01          1403.01           128.41           1072.41  \n",
       "3          620.18          1316.72           303.18            999.72  \n",
       "4          936.66          2053.31           630.66           1747.31  \n",
       "5          678.82          2048.13           378.82           1748.13  "
      ]
     },
     "execution_count": 7,
     "metadata": {},
     "output_type": "execute_result"
    }
   ],
   "source": [
    "# subset of movies made within the last 10 years with under $1,250,000,000 ww_profit\n",
    "df12_10yrs = df12_clean[df12_clean['release_year'] > 2010]\n",
    "df12_10yrs.head()"
   ]
  },
  {
   "cell_type": "markdown",
   "metadata": {},
   "source": [
    "###### looking into production_budget vs worldwide_profit"
   ]
  },
  {
   "cell_type": "code",
   "execution_count": 11,
   "metadata": {},
   "outputs": [
    {
     "data": {
      "text/html": [
       "<div>\n",
       "<style scoped>\n",
       "    .dataframe tbody tr th:only-of-type {\n",
       "        vertical-align: middle;\n",
       "    }\n",
       "\n",
       "    .dataframe tbody tr th {\n",
       "        vertical-align: top;\n",
       "    }\n",
       "\n",
       "    .dataframe thead th {\n",
       "        text-align: right;\n",
       "    }\n",
       "</style>\n",
       "<table border=\"1\" class=\"dataframe\">\n",
       "  <thead>\n",
       "    <tr style=\"text-align: right;\">\n",
       "      <th></th>\n",
       "      <th>Unnamed: 0</th>\n",
       "      <th>id</th>\n",
       "      <th>release_date</th>\n",
       "      <th>release_year</th>\n",
       "      <th>movie</th>\n",
       "      <th>production_budget</th>\n",
       "      <th>domestic_gross</th>\n",
       "      <th>worldwide_gross</th>\n",
       "      <th>domestic_profit</th>\n",
       "      <th>worldwide_profit</th>\n",
       "    </tr>\n",
       "  </thead>\n",
       "  <tbody>\n",
       "    <tr>\n",
       "      <th>5</th>\n",
       "      <td>6</td>\n",
       "      <td>7</td>\n",
       "      <td>Apr 27, 2018</td>\n",
       "      <td>2018</td>\n",
       "      <td>Avengers: Infinity War</td>\n",
       "      <td>300.0</td>\n",
       "      <td>678.82</td>\n",
       "      <td>2048.13</td>\n",
       "      <td>378.82</td>\n",
       "      <td>1748.13</td>\n",
       "    </tr>\n",
       "    <tr>\n",
       "      <th>4</th>\n",
       "      <td>5</td>\n",
       "      <td>6</td>\n",
       "      <td>Dec 18, 2015</td>\n",
       "      <td>2015</td>\n",
       "      <td>Star Wars Ep. VII: The Force Awakens</td>\n",
       "      <td>306.0</td>\n",
       "      <td>936.66</td>\n",
       "      <td>2053.31</td>\n",
       "      <td>630.66</td>\n",
       "      <td>1747.31</td>\n",
       "    </tr>\n",
       "    <tr>\n",
       "      <th>31</th>\n",
       "      <td>33</td>\n",
       "      <td>34</td>\n",
       "      <td>Jun 12, 2015</td>\n",
       "      <td>2015</td>\n",
       "      <td>Jurassic World</td>\n",
       "      <td>215.0</td>\n",
       "      <td>652.27</td>\n",
       "      <td>1648.85</td>\n",
       "      <td>437.27</td>\n",
       "      <td>1433.85</td>\n",
       "    </tr>\n",
       "    <tr>\n",
       "      <th>64</th>\n",
       "      <td>66</td>\n",
       "      <td>67</td>\n",
       "      <td>Apr 3, 2015</td>\n",
       "      <td>2015</td>\n",
       "      <td>Furious 7</td>\n",
       "      <td>190.0</td>\n",
       "      <td>353.01</td>\n",
       "      <td>1518.72</td>\n",
       "      <td>163.01</td>\n",
       "      <td>1328.72</td>\n",
       "    </tr>\n",
       "    <tr>\n",
       "      <th>24</th>\n",
       "      <td>26</td>\n",
       "      <td>27</td>\n",
       "      <td>May 4, 2012</td>\n",
       "      <td>2012</td>\n",
       "      <td>The Avengers</td>\n",
       "      <td>225.0</td>\n",
       "      <td>623.28</td>\n",
       "      <td>1517.94</td>\n",
       "      <td>398.28</td>\n",
       "      <td>1292.94</td>\n",
       "    </tr>\n",
       "  </tbody>\n",
       "</table>\n",
       "</div>"
      ],
      "text/plain": [
       "    Unnamed: 0  id  release_date  release_year  \\\n",
       "5            6   7  Apr 27, 2018          2018   \n",
       "4            5   6  Dec 18, 2015          2015   \n",
       "31          33  34  Jun 12, 2015          2015   \n",
       "64          66  67   Apr 3, 2015          2015   \n",
       "24          26  27   May 4, 2012          2012   \n",
       "\n",
       "                                   movie  production_budget  domestic_gross  \\\n",
       "5                 Avengers: Infinity War              300.0          678.82   \n",
       "4   Star Wars Ep. VII: The Force Awakens              306.0          936.66   \n",
       "31                        Jurassic World              215.0          652.27   \n",
       "64                             Furious 7              190.0          353.01   \n",
       "24                          The Avengers              225.0          623.28   \n",
       "\n",
       "    worldwide_gross  domestic_profit  worldwide_profit  \n",
       "5           2048.13           378.82           1748.13  \n",
       "4           2053.31           630.66           1747.31  \n",
       "31          1648.85           437.27           1433.85  \n",
       "64          1518.72           163.01           1328.72  \n",
       "24          1517.94           398.28           1292.94  "
      ]
     },
     "execution_count": 11,
     "metadata": {},
     "output_type": "execute_result"
    }
   ],
   "source": [
    "# Sort by worldwide_profit to preview top profits\n",
    "df12_10yrs.sort_values(\"worldwide_profit\", ascending = False).head(5)"
   ]
  },
  {
   "cell_type": "code",
   "execution_count": 9,
   "metadata": {},
   "outputs": [
    {
     "data": {
      "text/html": [
       "<div>\n",
       "<style scoped>\n",
       "    .dataframe tbody tr th:only-of-type {\n",
       "        vertical-align: middle;\n",
       "    }\n",
       "\n",
       "    .dataframe tbody tr th {\n",
       "        vertical-align: top;\n",
       "    }\n",
       "\n",
       "    .dataframe thead th {\n",
       "        text-align: right;\n",
       "    }\n",
       "</style>\n",
       "<table border=\"1\" class=\"dataframe\">\n",
       "  <thead>\n",
       "    <tr style=\"text-align: right;\">\n",
       "      <th></th>\n",
       "      <th>Unnamed: 0</th>\n",
       "      <th>id</th>\n",
       "      <th>release_date</th>\n",
       "      <th>release_year</th>\n",
       "      <th>movie</th>\n",
       "      <th>production_budget</th>\n",
       "      <th>domestic_gross</th>\n",
       "      <th>worldwide_gross</th>\n",
       "      <th>domestic_profit</th>\n",
       "      <th>worldwide_profit</th>\n",
       "    </tr>\n",
       "  </thead>\n",
       "  <tbody>\n",
       "    <tr>\n",
       "      <th>1</th>\n",
       "      <td>1</td>\n",
       "      <td>2</td>\n",
       "      <td>May 20, 2011</td>\n",
       "      <td>2011</td>\n",
       "      <td>Pirates of the Caribbean: On Stranger Tides</td>\n",
       "      <td>410.6</td>\n",
       "      <td>241.06</td>\n",
       "      <td>1045.66</td>\n",
       "      <td>-169.54</td>\n",
       "      <td>635.06</td>\n",
       "    </tr>\n",
       "    <tr>\n",
       "      <th>2</th>\n",
       "      <td>3</td>\n",
       "      <td>4</td>\n",
       "      <td>May 1, 2015</td>\n",
       "      <td>2015</td>\n",
       "      <td>Avengers: Age of Ultron</td>\n",
       "      <td>330.6</td>\n",
       "      <td>459.01</td>\n",
       "      <td>1403.01</td>\n",
       "      <td>128.41</td>\n",
       "      <td>1072.41</td>\n",
       "    </tr>\n",
       "    <tr>\n",
       "      <th>3</th>\n",
       "      <td>4</td>\n",
       "      <td>5</td>\n",
       "      <td>Dec 15, 2017</td>\n",
       "      <td>2017</td>\n",
       "      <td>Star Wars Ep. VIII: The Last Jedi</td>\n",
       "      <td>317.0</td>\n",
       "      <td>620.18</td>\n",
       "      <td>1316.72</td>\n",
       "      <td>303.18</td>\n",
       "      <td>999.72</td>\n",
       "    </tr>\n",
       "    <tr>\n",
       "      <th>4</th>\n",
       "      <td>5</td>\n",
       "      <td>6</td>\n",
       "      <td>Dec 18, 2015</td>\n",
       "      <td>2015</td>\n",
       "      <td>Star Wars Ep. VII: The Force Awakens</td>\n",
       "      <td>306.0</td>\n",
       "      <td>936.66</td>\n",
       "      <td>2053.31</td>\n",
       "      <td>630.66</td>\n",
       "      <td>1747.31</td>\n",
       "    </tr>\n",
       "    <tr>\n",
       "      <th>5</th>\n",
       "      <td>6</td>\n",
       "      <td>7</td>\n",
       "      <td>Apr 27, 2018</td>\n",
       "      <td>2018</td>\n",
       "      <td>Avengers: Infinity War</td>\n",
       "      <td>300.0</td>\n",
       "      <td>678.82</td>\n",
       "      <td>2048.13</td>\n",
       "      <td>378.82</td>\n",
       "      <td>1748.13</td>\n",
       "    </tr>\n",
       "  </tbody>\n",
       "</table>\n",
       "</div>"
      ],
      "text/plain": [
       "   Unnamed: 0  id  release_date  release_year  \\\n",
       "1           1   2  May 20, 2011          2011   \n",
       "2           3   4   May 1, 2015          2015   \n",
       "3           4   5  Dec 15, 2017          2017   \n",
       "4           5   6  Dec 18, 2015          2015   \n",
       "5           6   7  Apr 27, 2018          2018   \n",
       "\n",
       "                                         movie  production_budget  \\\n",
       "1  Pirates of the Caribbean: On Stranger Tides              410.6   \n",
       "2                      Avengers: Age of Ultron              330.6   \n",
       "3            Star Wars Ep. VIII: The Last Jedi              317.0   \n",
       "4         Star Wars Ep. VII: The Force Awakens              306.0   \n",
       "5                       Avengers: Infinity War              300.0   \n",
       "\n",
       "   domestic_gross  worldwide_gross  domestic_profit  worldwide_profit  \n",
       "1          241.06          1045.66          -169.54            635.06  \n",
       "2          459.01          1403.01           128.41           1072.41  \n",
       "3          620.18          1316.72           303.18            999.72  \n",
       "4          936.66          2053.31           630.66           1747.31  \n",
       "5          678.82          2048.13           378.82           1748.13  "
      ]
     },
     "execution_count": 9,
     "metadata": {},
     "output_type": "execute_result"
    }
   ],
   "source": [
    "# Sort by production_budget to preview top budgets\n",
    "df12_10yrs.sort_values(\"production_budget\", ascending = False).head()"
   ]
  },
  {
   "cell_type": "markdown",
   "metadata": {},
   "source": [
    "#### Correlation check\n",
    "\n",
    "Of course, we're already seeing a trend here as expected: higher spend means higher profit. Let's filter out some outliers"
   ]
  },
  {
   "cell_type": "code",
   "execution_count": 12,
   "metadata": {},
   "outputs": [
    {
     "name": "stderr",
     "output_type": "stream",
     "text": [
      "/Users/candaur/opt/anaconda3/envs/learn-env/lib/python3.6/site-packages/ipykernel_launcher.py:3: UserWarning: Boolean Series key will be reindexed to match DataFrame index.\n",
      "  This is separate from the ipykernel package so we can avoid doing imports until\n"
     ]
    }
   ],
   "source": [
    "# Filter out budget under $300,000,000 and profit under $1,500,000,000\n",
    "plot_data = df12_10yrs[df12_10yrs['production_budget'] \n",
    "                       < 300][df12_10yrs['worldwide_profit'] < 1500]"
   ]
  },
  {
   "cell_type": "markdown",
   "metadata": {},
   "source": [
    "Let's take a look at our first scatterplot"
   ]
  },
  {
   "cell_type": "code",
   "execution_count": 13,
   "metadata": {},
   "outputs": [
    {
     "data": {
      "text/plain": [
       "<matplotlib.collections.PathCollection at 0x7fb7a8343f98>"
      ]
     },
     "execution_count": 13,
     "metadata": {},
     "output_type": "execute_result"
    },
    {
     "data": {
      "image/png": "[encoded data removed]",
      "text/plain": [
       "<Figure size 432x288 with 1 Axes>"
      ]
     },
     "metadata": {
      "needs_background": "light"
     },
     "output_type": "display_data"
    }
   ],
   "source": [
    "fig, ax = plt.subplots()\n",
    "\n",
    "ax.set_title('Relationship Between Movie Profits and Production Budget')\n",
    "ax.set_ylabel('Total Profit (100 Million)')\n",
    "ax.set_xlabel('Production Budget (100 Million)')\n",
    "\n",
    "y1 = plot_data.worldwide_profit\n",
    "x1 = plot_data.production_budget\n",
    "\n",
    "plt.scatter(x1,y1)"
   ]
  },
  {
   "cell_type": "code",
   "execution_count": 14,
   "metadata": {},
   "outputs": [
    {
     "name": "stdout",
     "output_type": "stream",
     "text": [
      "Correlation between Profit and Budget is 0.69\n"
     ]
    }
   ],
   "source": [
    "# Correlation between Profit and Budget\n",
    "column_1 = df12_10yrs[\"worldwide_profit\"]\n",
    "column_2 = df12_10yrs[\"production_budget\"]\n",
    "\n",
    "correlation = column_1.corr(column_2)\n",
    "print(f'Correlation between Profit and Budget is {correlation.round(2)}')"
   ]
  },
  {
   "cell_type": "markdown",
   "metadata": {},
   "source": [
    "#### Remove outliers profit"
   ]
  },
  {
   "cell_type": "code",
   "execution_count": 16,
   "metadata": {},
   "outputs": [],
   "source": [
    "# Remove worldwide_profit outliers using standard deviation\n",
    "arr = df12_10yrs['worldwide_profit']\n",
    "profit_elements = np.array(arr)\n",
    "\n",
    "profit_mean = np.mean(profit_elements, axis=0)\n",
    "profit_sd = np.std(profit_elements, axis=0)\n",
    "\n",
    "profit_list = [x for x in arr if (x > profit_mean - 2 * profit_sd)]\n",
    "profit_list = [x for x in profit_list if (x < profit_mean + 2 * profit_sd)]\n",
    "# len(profit_list)\n",
    "# len(arr)"
   ]
  },
  {
   "cell_type": "code",
   "execution_count": 17,
   "metadata": {},
   "outputs": [
    {
     "data": {
      "text/plain": [
       "<matplotlib.collections.PathCollection at 0x7fb7a8fcc630>"
      ]
     },
     "execution_count": 17,
     "metadata": {},
     "output_type": "execute_result"
    },
    {
     "data": {
      "image/png": "[encoded data removed]",
      "text/plain": [
       "<Figure size 432x288 with 1 Axes>"
      ]
     },
     "metadata": {
      "needs_background": "light"
     },
     "output_type": "display_data"
    }
   ],
   "source": [
    "# Plot after removing outliers\n",
    "fig, ax = plt.subplots()\n",
    "\n",
    "ax.set_title('Relationship Between Movie Profits and Production Budget')\n",
    "ax.set_ylabel('Total Profit (100 Million)')\n",
    "ax.set_xlabel('Production Budget (100 Million)')\n",
    "\n",
    "y1 = plot_data.worldwide_profit\n",
    "x1 = plot_data.production_budget\n",
    "\n",
    "plt.scatter(x1,y1)"
   ]
  },
  {
   "cell_type": "code",
   "execution_count": 18,
   "metadata": {},
   "outputs": [
    {
     "name": "stdout",
     "output_type": "stream",
     "text": [
      "Correlation between Profit and Budget is 0.67\n"
     ]
    }
   ],
   "source": [
    "# Correlation between Profit and Budget\n",
    "column_1 = plot_data[\"worldwide_profit\"]\n",
    "column_2 = plot_data[\"production_budget\"]\n",
    "\n",
    "correlation = column_1.corr(column_2)\n",
    "print(f'Correlation between Profit and Budget is {correlation.round(2)}')"
   ]
  },
  {
   "cell_type": "code",
   "execution_count": 20,
   "metadata": {},
   "outputs": [],
   "source": [
    "plot_data1 = i_tn_profit_df #merged dataset\n",
    "\n",
    "profit_mean = i_tn_profit_df['worldwide_profit'].mean()\n",
    "profit_sd = i_tn_profit_df['worldwide_profit'].std()\n",
    "plot_data2 = i_tn_profit_df[(i_tn_profit_df['worldwide_profit'] > profit_mean - 2 * profit_sd) & \n",
    "           (i_tn_profit_df['worldwide_profit'] < profit_mean + 2 * profit_sd)] \n",
    "\n",
    "plot_data3 = i_tn_profit_df[i_tn_profit_df['production_budget'] > 75000000]"
   ]
  },
  {
   "cell_type": "code",
   "execution_count": 21,
   "metadata": {
    "scrolled": true
   },
   "outputs": [
    {
     "data": {
      "image/png": "[encoded data removed]",
      "text/plain": [
       "<Figure size 1440x720 with 3 Axes>"
      ]
     },
     "metadata": {
      "needs_background": "light"
     },
     "output_type": "display_data"
    }
   ],
   "source": [
    "# Visualizing correlation\n",
    "plt.figure(figsize=(20,10))\n",
    "\n",
    "# fig 1 - Comprehensive Findings\n",
    "ax1 = plt.subplot(1, 3, 1)\n",
    "\n",
    "ax1.set_title('Initial Comprehensive Findings')\n",
    "ax1.set_ylabel('Total Profit (100 Million)')\n",
    "ax1.set_xlabel('Production Budget (100 Million)')\n",
    "\n",
    "y1 = plot_data1.worldwide_profit\n",
    "x1 = plot_data1.production_budget\n",
    "\n",
    "ax1.scatter(x1,y1)\n",
    "\n",
    "\n",
    "# fig 2 - Remove profit outliers with +- 2*std\n",
    "ax2 = plt.subplot(1, 3, 2)\n",
    "\n",
    "ax2.set_title('Removing Profit Outliers')\n",
    "ax2.set_ylabel('Total Profit (100 Million)')\n",
    "ax2.set_xlabel('Production Budget (100 Million)')\n",
    "\n",
    "y2 = plot_data2.worldwide_profit\n",
    "x2 = plot_data2.production_budget\n",
    "\n",
    "ax2.scatter(x2,y2)\n",
    "\n",
    "\n",
    "# fig 3 - Zooming in on movies with budgets over $75 million\n",
    "ax3 = plt.subplot(1, 3, 3)\n",
    "\n",
    "ax3.set_title('Movies with Budget Over $75 Million')\n",
    "ax3.set_ylabel('Total Profit (100 Million)')\n",
    "ax3.set_xlabel('Production Budget (100 Million)')\n",
    "\n",
    "y3 = plot_data3.worldwide_profit\n",
    "x3 = plot_data3.production_budget\n",
    "\n",
    "ax3.scatter(x3,y3)\n",
    "\n",
    "#Plot style\n",
    "plt.suptitle(\"Relationship Between Movie Profits and Production Budget\", size=25)\n",
    "plt.savefig(\"images/budget_profit.png\")\n",
    "\n",
    "plt.show()"
   ]
  },
  {
   "cell_type": "markdown",
   "metadata": {},
   "source": [
    "#### Diving into Genre Profits"
   ]
  },
  {
   "cell_type": "code",
   "execution_count": 22,
   "metadata": {},
   "outputs": [
    {
     "name": "stderr",
     "output_type": "stream",
     "text": [
      "/Users/candaur/opt/anaconda3/envs/learn-env/lib/python3.6/site-packages/pandas/core/frame.py:3509: SettingWithCopyWarning: \n",
      "A value is trying to be set on a copy of a slice from a DataFrame.\n",
      "Try using .loc[row_indexer,col_indexer] = value instead\n",
      "\n",
      "See the caveats in the documentation: http://pandas.pydata.org/pandas-docs/stable/user_guide/indexing.html#returning-a-view-versus-a-copy\n",
      "  self[k1] = value[k2]\n"
     ]
    }
   ],
   "source": [
    "#Split genre columns to iterate\n",
    "plot_data3[['genre1','genre2','genre3']] = plot_data3['genres'].str.split(',', expand = True)"
   ]
  },
  {
   "cell_type": "code",
   "execution_count": 24,
   "metadata": {},
   "outputs": [
    {
     "data": {
      "text/html": [
       "<div>\n",
       "<style scoped>\n",
       "    .dataframe tbody tr th:only-of-type {\n",
       "        vertical-align: middle;\n",
       "    }\n",
       "\n",
       "    .dataframe tbody tr th {\n",
       "        vertical-align: top;\n",
       "    }\n",
       "\n",
       "    .dataframe thead th {\n",
       "        text-align: right;\n",
       "    }\n",
       "</style>\n",
       "<table border=\"1\" class=\"dataframe\">\n",
       "  <thead>\n",
       "    <tr style=\"text-align: right;\">\n",
       "      <th></th>\n",
       "      <th>primary_title</th>\n",
       "      <th>release_date</th>\n",
       "      <th>release_year</th>\n",
       "      <th>runtime_minutes</th>\n",
       "      <th>genres</th>\n",
       "      <th>averagerating</th>\n",
       "      <th>numvotes</th>\n",
       "      <th>production_budget</th>\n",
       "      <th>domestic_gross</th>\n",
       "      <th>worldwide_gross</th>\n",
       "      <th>domestic_profit</th>\n",
       "      <th>worldwide_profit</th>\n",
       "      <th>genre1</th>\n",
       "      <th>genre2</th>\n",
       "      <th>genre3</th>\n",
       "    </tr>\n",
       "  </thead>\n",
       "  <tbody>\n",
       "    <tr>\n",
       "      <th>1406</th>\n",
       "      <td>Avengers: Infinity War</td>\n",
       "      <td>Apr 27, 2018</td>\n",
       "      <td>2018</td>\n",
       "      <td>149.0</td>\n",
       "      <td>Action,Adventure,Sci-Fi</td>\n",
       "      <td>8.5</td>\n",
       "      <td>670926</td>\n",
       "      <td>300000000</td>\n",
       "      <td>678815482</td>\n",
       "      <td>2048134200</td>\n",
       "      <td>378815482</td>\n",
       "      <td>1748134200</td>\n",
       "      <td>Action</td>\n",
       "      <td>Adventure</td>\n",
       "      <td>Sci-Fi</td>\n",
       "    </tr>\n",
       "    <tr>\n",
       "      <th>4</th>\n",
       "      <td>Jurassic World</td>\n",
       "      <td>Jun 12, 2015</td>\n",
       "      <td>2015</td>\n",
       "      <td>124.0</td>\n",
       "      <td>Action,Adventure,Sci-Fi</td>\n",
       "      <td>7.0</td>\n",
       "      <td>539338</td>\n",
       "      <td>215000000</td>\n",
       "      <td>652270625</td>\n",
       "      <td>1648854864</td>\n",
       "      <td>437270625</td>\n",
       "      <td>1433854864</td>\n",
       "      <td>Action</td>\n",
       "      <td>Adventure</td>\n",
       "      <td>Sci-Fi</td>\n",
       "    </tr>\n",
       "    <tr>\n",
       "      <th>82</th>\n",
       "      <td>The Avengers</td>\n",
       "      <td>May 4, 2012</td>\n",
       "      <td>2012</td>\n",
       "      <td>143.0</td>\n",
       "      <td>Action,Adventure,Sci-Fi</td>\n",
       "      <td>8.1</td>\n",
       "      <td>1183655</td>\n",
       "      <td>225000000</td>\n",
       "      <td>623279547</td>\n",
       "      <td>1517935897</td>\n",
       "      <td>398279547</td>\n",
       "      <td>1292935897</td>\n",
       "      <td>Action</td>\n",
       "      <td>Adventure</td>\n",
       "      <td>Sci-Fi</td>\n",
       "    </tr>\n",
       "    <tr>\n",
       "      <th>784</th>\n",
       "      <td>Black Panther</td>\n",
       "      <td>Feb 16, 2018</td>\n",
       "      <td>2018</td>\n",
       "      <td>134.0</td>\n",
       "      <td>Action,Adventure,Sci-Fi</td>\n",
       "      <td>7.3</td>\n",
       "      <td>516148</td>\n",
       "      <td>200000000</td>\n",
       "      <td>700059566</td>\n",
       "      <td>1348258224</td>\n",
       "      <td>500059566</td>\n",
       "      <td>1148258224</td>\n",
       "      <td>Action</td>\n",
       "      <td>Adventure</td>\n",
       "      <td>Sci-Fi</td>\n",
       "    </tr>\n",
       "    <tr>\n",
       "      <th>1484</th>\n",
       "      <td>Jurassic World: Fallen Kingdom</td>\n",
       "      <td>Jun 22, 2018</td>\n",
       "      <td>2018</td>\n",
       "      <td>128.0</td>\n",
       "      <td>Action,Adventure,Sci-Fi</td>\n",
       "      <td>6.2</td>\n",
       "      <td>219125</td>\n",
       "      <td>170000000</td>\n",
       "      <td>417719760</td>\n",
       "      <td>1305772799</td>\n",
       "      <td>247719760</td>\n",
       "      <td>1135772799</td>\n",
       "      <td>Action</td>\n",
       "      <td>Adventure</td>\n",
       "      <td>Sci-Fi</td>\n",
       "    </tr>\n",
       "  </tbody>\n",
       "</table>\n",
       "</div>"
      ],
      "text/plain": [
       "                       primary_title  release_date  release_year  \\\n",
       "1406          Avengers: Infinity War  Apr 27, 2018          2018   \n",
       "4                     Jurassic World  Jun 12, 2015          2015   \n",
       "82                      The Avengers   May 4, 2012          2012   \n",
       "784                    Black Panther  Feb 16, 2018          2018   \n",
       "1484  Jurassic World: Fallen Kingdom  Jun 22, 2018          2018   \n",
       "\n",
       "      runtime_minutes                   genres  averagerating  numvotes  \\\n",
       "1406            149.0  Action,Adventure,Sci-Fi            8.5    670926   \n",
       "4               124.0  Action,Adventure,Sci-Fi            7.0    539338   \n",
       "82              143.0  Action,Adventure,Sci-Fi            8.1   1183655   \n",
       "784             134.0  Action,Adventure,Sci-Fi            7.3    516148   \n",
       "1484            128.0  Action,Adventure,Sci-Fi            6.2    219125   \n",
       "\n",
       "      production_budget  domestic_gross  worldwide_gross  domestic_profit  \\\n",
       "1406          300000000       678815482       2048134200        378815482   \n",
       "4             215000000       652270625       1648854864        437270625   \n",
       "82            225000000       623279547       1517935897        398279547   \n",
       "784           200000000       700059566       1348258224        500059566   \n",
       "1484          170000000       417719760       1305772799        247719760   \n",
       "\n",
       "      worldwide_profit  genre1     genre2  genre3  \n",
       "1406        1748134200  Action  Adventure  Sci-Fi  \n",
       "4           1433854864  Action  Adventure  Sci-Fi  \n",
       "82          1292935897  Action  Adventure  Sci-Fi  \n",
       "784         1148258224  Action  Adventure  Sci-Fi  \n",
       "1484        1135772799  Action  Adventure  Sci-Fi  "
      ]
     },
     "execution_count": 24,
     "metadata": {},
     "output_type": "execute_result"
    }
   ],
   "source": [
    "#Looking into highest profit movie genres: Sci-Fi and Animation\n",
    "genre_profit = plot_data3[(plot_data3['genre1'].isin(['Sci-Fi', 'Animation']))|\n",
    "         (plot_data3['genre2'].isin(['Sci-Fi', 'Animation']))|\n",
    "         (plot_data3['genre3'].isin(['Sci-Fi', 'Animation']))\n",
    "          ].sort_values('worldwide_profit', ascending = False)\n",
    "genre_profit.head()"
   ]
  },
  {
   "cell_type": "markdown",
   "metadata": {},
   "source": [
    "#### Confirming that Sci-Fi and Animation follow the same trends as overall genres"
   ]
  },
  {
   "cell_type": "code",
   "execution_count": 25,
   "metadata": {},
   "outputs": [
    {
     "name": "stdout",
     "output_type": "stream",
     "text": [
      "Correlation between Profit and Budget is 0.48\n"
     ]
    }
   ],
   "source": [
    "# Correlation between Profit and Budget - overall\n",
    "column_1 = plot_data3[\"worldwide_profit\"]\n",
    "column_2 = plot_data3[\"production_budget\"]\n",
    "\n",
    "correlation = column_1.corr(column_2)\n",
    "print(f'Correlation between Profit and Budget is {correlation.round(2)}')"
   ]
  },
  {
   "cell_type": "code",
   "execution_count": 26,
   "metadata": {},
   "outputs": [
    {
     "name": "stdout",
     "output_type": "stream",
     "text": [
      "Correlation between Profit and Budget is 0.46\n"
     ]
    }
   ],
   "source": [
    "# Correlation between Profit and Budget - Animation and Sci-Fi\n",
    "column_1 = genre_profit[\"worldwide_profit\"]\n",
    "column_2 = genre_profit[\"production_budget\"]\n",
    "\n",
    "correlation = column_1.corr(column_2)\n",
    "print(f'Correlation between Profit and Budget is {correlation.round(2)}')"
   ]
  },
  {
   "cell_type": "markdown",
   "metadata": {},
   "source": [
    "#### Sci-Fi and Animation genres take up about half (47%) of all movies with budgets over $ 75 Mil"
   ]
  },
  {
   "cell_type": "code",
   "execution_count": null,
   "metadata": {},
   "outputs": [],
   "source": [
    "genre_profit.info()"
   ]
  },
  {
   "cell_type": "code",
   "execution_count": null,
   "metadata": {},
   "outputs": [],
   "source": [
    "plot_data3.info()"
   ]
  },
  {
   "cell_type": "markdown",
   "metadata": {},
   "source": [
    "#### New genre_profit dataframe with added profit percentage column:\n",
    "\n",
    "What's the biggest bang for your buck?"
   ]
  },
  {
   "cell_type": "code",
   "execution_count": 28,
   "metadata": {},
   "outputs": [
    {
     "data": {
      "text/html": [
       "<div>\n",
       "<style scoped>\n",
       "    .dataframe tbody tr th:only-of-type {\n",
       "        vertical-align: middle;\n",
       "    }\n",
       "\n",
       "    .dataframe tbody tr th {\n",
       "        vertical-align: top;\n",
       "    }\n",
       "\n",
       "    .dataframe thead th {\n",
       "        text-align: right;\n",
       "    }\n",
       "</style>\n",
       "<table border=\"1\" class=\"dataframe\">\n",
       "  <thead>\n",
       "    <tr style=\"text-align: right;\">\n",
       "      <th></th>\n",
       "      <th>primary_title</th>\n",
       "      <th>release_date</th>\n",
       "      <th>release_year</th>\n",
       "      <th>runtime_minutes</th>\n",
       "      <th>genres</th>\n",
       "      <th>averagerating</th>\n",
       "      <th>numvotes</th>\n",
       "      <th>production_budget</th>\n",
       "      <th>domestic_gross</th>\n",
       "      <th>worldwide_gross</th>\n",
       "      <th>domestic_profit</th>\n",
       "      <th>worldwide_profit</th>\n",
       "      <th>genre1</th>\n",
       "      <th>genre2</th>\n",
       "      <th>genre3</th>\n",
       "      <th>profit_percentage</th>\n",
       "    </tr>\n",
       "  </thead>\n",
       "  <tbody>\n",
       "    <tr>\n",
       "      <th>673</th>\n",
       "      <td>Despicable Me 2</td>\n",
       "      <td>Jul 3, 2013</td>\n",
       "      <td>2013</td>\n",
       "      <td>98.0</td>\n",
       "      <td>Adventure,Animation,Comedy</td>\n",
       "      <td>7.4</td>\n",
       "      <td>344230</td>\n",
       "      <td>76000000</td>\n",
       "      <td>368065385</td>\n",
       "      <td>975216835</td>\n",
       "      <td>292065385</td>\n",
       "      <td>899216835</td>\n",
       "      <td>Adventure</td>\n",
       "      <td>Animation</td>\n",
       "      <td>Comedy</td>\n",
       "      <td>1183.2</td>\n",
       "    </tr>\n",
       "    <tr>\n",
       "      <th>659</th>\n",
       "      <td>Ice Age: Continental Drift</td>\n",
       "      <td>Jul 13, 2012</td>\n",
       "      <td>2012</td>\n",
       "      <td>88.0</td>\n",
       "      <td>Adventure,Animation,Comedy</td>\n",
       "      <td>6.6</td>\n",
       "      <td>175601</td>\n",
       "      <td>95000000</td>\n",
       "      <td>161321843</td>\n",
       "      <td>879765137</td>\n",
       "      <td>66321843</td>\n",
       "      <td>784765137</td>\n",
       "      <td>Adventure</td>\n",
       "      <td>Animation</td>\n",
       "      <td>Comedy</td>\n",
       "      <td>826.1</td>\n",
       "    </tr>\n",
       "    <tr>\n",
       "      <th>321</th>\n",
       "      <td>Frozen</td>\n",
       "      <td>Nov 22, 2013</td>\n",
       "      <td>2013</td>\n",
       "      <td>102.0</td>\n",
       "      <td>Adventure,Animation,Comedy</td>\n",
       "      <td>7.5</td>\n",
       "      <td>516998</td>\n",
       "      <td>150000000</td>\n",
       "      <td>400738009</td>\n",
       "      <td>1272469910</td>\n",
       "      <td>250738009</td>\n",
       "      <td>1122469910</td>\n",
       "      <td>Adventure</td>\n",
       "      <td>Animation</td>\n",
       "      <td>Comedy</td>\n",
       "      <td>748.3</td>\n",
       "    </tr>\n",
       "    <tr>\n",
       "      <th>360</th>\n",
       "      <td>The Hunger Games</td>\n",
       "      <td>Mar 23, 2012</td>\n",
       "      <td>2012</td>\n",
       "      <td>142.0</td>\n",
       "      <td>Action,Adventure,Sci-Fi</td>\n",
       "      <td>7.2</td>\n",
       "      <td>795227</td>\n",
       "      <td>80000000</td>\n",
       "      <td>408010692</td>\n",
       "      <td>677923379</td>\n",
       "      <td>328010692</td>\n",
       "      <td>597923379</td>\n",
       "      <td>Action</td>\n",
       "      <td>Adventure</td>\n",
       "      <td>Sci-Fi</td>\n",
       "      <td>747.4</td>\n",
       "    </tr>\n",
       "    <tr>\n",
       "      <th>1484</th>\n",
       "      <td>Jurassic World: Fallen Kingdom</td>\n",
       "      <td>Jun 22, 2018</td>\n",
       "      <td>2018</td>\n",
       "      <td>128.0</td>\n",
       "      <td>Action,Adventure,Sci-Fi</td>\n",
       "      <td>6.2</td>\n",
       "      <td>219125</td>\n",
       "      <td>170000000</td>\n",
       "      <td>417719760</td>\n",
       "      <td>1305772799</td>\n",
       "      <td>247719760</td>\n",
       "      <td>1135772799</td>\n",
       "      <td>Action</td>\n",
       "      <td>Adventure</td>\n",
       "      <td>Sci-Fi</td>\n",
       "      <td>668.1</td>\n",
       "    </tr>\n",
       "  </tbody>\n",
       "</table>\n",
       "</div>"
      ],
      "text/plain": [
       "                       primary_title  release_date  release_year  \\\n",
       "673                  Despicable Me 2   Jul 3, 2013          2013   \n",
       "659       Ice Age: Continental Drift  Jul 13, 2012          2012   \n",
       "321                           Frozen  Nov 22, 2013          2013   \n",
       "360                 The Hunger Games  Mar 23, 2012          2012   \n",
       "1484  Jurassic World: Fallen Kingdom  Jun 22, 2018          2018   \n",
       "\n",
       "      runtime_minutes                      genres  averagerating  numvotes  \\\n",
       "673              98.0  Adventure,Animation,Comedy            7.4    344230   \n",
       "659              88.0  Adventure,Animation,Comedy            6.6    175601   \n",
       "321             102.0  Adventure,Animation,Comedy            7.5    516998   \n",
       "360             142.0     Action,Adventure,Sci-Fi            7.2    795227   \n",
       "1484            128.0     Action,Adventure,Sci-Fi            6.2    219125   \n",
       "\n",
       "      production_budget  domestic_gross  worldwide_gross  domestic_profit  \\\n",
       "673            76000000       368065385        975216835        292065385   \n",
       "659            95000000       161321843        879765137         66321843   \n",
       "321           150000000       400738009       1272469910        250738009   \n",
       "360            80000000       408010692        677923379        328010692   \n",
       "1484          170000000       417719760       1305772799        247719760   \n",
       "\n",
       "      worldwide_profit     genre1     genre2  genre3  profit_percentage  \n",
       "673          899216835  Adventure  Animation  Comedy             1183.2  \n",
       "659          784765137  Adventure  Animation  Comedy              826.1  \n",
       "321         1122469910  Adventure  Animation  Comedy              748.3  \n",
       "360          597923379     Action  Adventure  Sci-Fi              747.4  \n",
       "1484        1135772799     Action  Adventure  Sci-Fi              668.1  "
      ]
     },
     "execution_count": 28,
     "metadata": {},
     "output_type": "execute_result"
    }
   ],
   "source": [
    "# Sort by highest profit to budget ratio in descending order\n",
    "genre_profit['profit_percentage'] = (genre_profit.worldwide_profit/genre_profit.production_budget \n",
    "                                     * 100).round(1)\n",
    "genre_profit.sort_values('profit_percentage', ascending = False).head(5)\n"
   ]
  },
  {
   "cell_type": "code",
   "execution_count": null,
   "metadata": {},
   "outputs": [],
   "source": []
  },
  {
   "cell_type": "code",
   "execution_count": null,
   "metadata": {},
   "outputs": [],
   "source": []
  },
  {
   "cell_type": "code",
   "execution_count": null,
   "metadata": {},
   "outputs": [],
   "source": []
  }
 ],
 "metadata": {
  "kernelspec": {
   "display_name": "Python 3",
   "language": "python",
   "name": "python3"
  },
  "language_info": {
   "codemirror_mode": {
    "name": "ipython",
    "version": 3
   },
   "file_extension": ".py",
   "mimetype": "text/x-python",
   "name": "python",
   "nbconvert_exporter": "python",
   "pygments_lexer": "ipython3",
   "version": "3.6.9"
  }
 },
 "nbformat": 4,
 "nbformat_minor": 4
}
